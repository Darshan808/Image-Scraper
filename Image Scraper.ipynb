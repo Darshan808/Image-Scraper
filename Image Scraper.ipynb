{
 "cells": [
  {
   "cell_type": "code",
   "execution_count": null,
   "id": "87d2812e",
   "metadata": {},
   "outputs": [],
   "source": [
    "import requests\n",
    "from tqdm import tqdm\n",
    "from bs4 import BeautifulSoup\n",
    "import pandas as pd\n",
    "from time import sleep\n",
    "from selenium import webdriver\n",
    "from IPython.display import display, Image, clear_output"
   ]
  },
  {
   "cell_type": "code",
   "execution_count": null,
   "id": "c1a7f1b1",
   "metadata": {},
   "outputs": [],
   "source": [
    "link = 'https://stock-pictures.netlify.app/'"
   ]
  },
  {
   "cell_type": "code",
   "execution_count": null,
   "id": "12aad018",
   "metadata": {},
   "outputs": [],
   "source": [
    "driver = webdriver.Chrome()"
   ]
  },
  {
   "cell_type": "code",
   "execution_count": null,
   "id": "5944c7bc",
   "metadata": {},
   "outputs": [],
   "source": [
    "driver.get(link)"
   ]
  },
  {
   "cell_type": "code",
   "execution_count": null,
   "id": "4be42d27",
   "metadata": {},
   "outputs": [],
   "source": [
    "allImgs = []\n",
    "while(len(allImgs)==0):\n",
    "    sleep(1)\n",
    "    soup = BeautifulSoup(driver.page_source,'html.parser')\n",
    "    allImgs = soup.find_all('div',class_='container')"
   ]
  },
  {
   "cell_type": "code",
   "execution_count": null,
   "id": "8d1c96bf",
   "metadata": {},
   "outputs": [],
   "source": [
    "for i in tqdm(range(0,500000,1000)):\n",
    "    driver.execute_script('window.scrollTo(0,'+str(i)+')')\n",
    "    sleep(.1)\n",
    "sleep(.2)\n",
    "soup = BeautifulSoup(driver.page_source,'html.parser')\n",
    "allImgs = soup.find_all('div',class_='container')"
   ]
  },
  {
   "cell_type": "code",
   "execution_count": null,
   "id": "8f5f1b11",
   "metadata": {},
   "outputs": [],
   "source": [
    "data = []\n",
    "for img in tqdm(allImgs):\n",
    "    try:\n",
    "        src = img.find('img',class_='source-img').get('src')\n",
    "    except:\n",
    "        src=None\n",
    "    try:\n",
    "        tags = img.find('span',class_='tag-color').text \n",
    "        tags = tags.split(' - ')[1].split(', ')\n",
    "    except:\n",
    "        tags=[]\n",
    "    try:\n",
    "        l_c = img.find('div',class_='likes-comments').find_all('span')\n",
    "        likes = int(l_c[0].text.split()[0])\n",
    "        comments = int(l_c[1].text.split()[0])\n",
    "    except:\n",
    "        likes=np.nan\n",
    "        comments=np.nan\n",
    "    data.append((src,tags,likes,comments))"
   ]
  },
  {
   "cell_type": "code",
   "execution_count": null,
   "id": "3e7b62f3",
   "metadata": {},
   "outputs": [],
   "source": [
    "df = pd.DataFrame(data,columns=['Img-Source','tags','likes','comments'])"
   ]
  },
  {
   "cell_type": "code",
   "execution_count": null,
   "id": "90d20c17",
   "metadata": {},
   "outputs": [],
   "source": [
    "tag = input('Enter a word for images: ')\n",
    "tag = tag[0].upper()+tag[1:len(tag)].lower()\n",
    "req = df.loc[df['tags'].apply(lambda l:tag in l),:]\n",
    "if(len(req)>3):\n",
    "    req=req.sample(3)\n",
    "req.reset_index(drop=True,inplace=True)\n",
    "print('loading ',end='')\n",
    "for i in range(5):\n",
    "    print('. ',end='')\n",
    "    sleep(0.5)\n",
    "clear_output()\n",
    "if(len(req)==0):\n",
    "    print('No Images Found!\\nPlease try again with different keyword')\n",
    "for i in range(3):\n",
    "    try:\n",
    "        img = Image(url=req['Img-Source'][i],width=300,height=300)\n",
    "        display(img)\n",
    "    except:\n",
    "        pass"
   ]
  },
  {
   "cell_type": "code",
   "execution_count": null,
   "id": "e320b083",
   "metadata": {},
   "outputs": [],
   "source": [
    "# max_likes_index = df['likes'].astype(int).idxmax()\n",
    "# maxLiked = df.loc[max_likes_index,'Img-Source']\n",
    "# with open('liked.jpg','wb') as fd:\n",
    "#     res = requests.get(maxLiked)\n",
    "#     fd.write(res.content)"
   ]
  }
 ],
 "metadata": {
  "kernelspec": {
   "display_name": "Python 3 (ipykernel)",
   "language": "python",
   "name": "python3"
  },
  "language_info": {
   "codemirror_mode": {
    "name": "ipython",
    "version": 3
   },
   "file_extension": ".py",
   "mimetype": "text/x-python",
   "name": "python",
   "nbconvert_exporter": "python",
   "pygments_lexer": "ipython3",
   "version": "3.10.13"
  }
 },
 "nbformat": 4,
 "nbformat_minor": 5
}
